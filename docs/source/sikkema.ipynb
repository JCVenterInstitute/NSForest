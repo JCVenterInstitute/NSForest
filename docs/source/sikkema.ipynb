{
 "cells": [
  {
   "cell_type": "markdown",
   "id": "d24f37f0",
   "metadata": {},
   "source": [
    "# Sikkema"
   ]
  },
  {
   "cell_type": "markdown",
   "id": "fd399a99",
   "metadata": {},
   "source": [
    "## Sikkema"
   ]
  },
  {
   "cell_type": "markdown",
   "id": "09e1a223",
   "metadata": {},
   "source": [
    "### Setting up environment"
   ]
  },
  {
   "cell_type": "code",
   "execution_count": 1,
   "id": "8a91b9cd",
   "metadata": {},
   "outputs": [
    {
     "name": "stderr",
     "output_type": "stream",
     "text": [
      "/Users/adeslatt/miniconda3/envs/nsforest/lib/python3.11/site-packages/anndata/utils.py:429: FutureWarning: Importing read_csv from `anndata` is deprecated. Import anndata.io.read_csv instead.\n",
      "  warnings.warn(msg, FutureWarning)\n",
      "/Users/adeslatt/miniconda3/envs/nsforest/lib/python3.11/site-packages/anndata/utils.py:429: FutureWarning: Importing read_text from `anndata` is deprecated. Import anndata.io.read_text instead.\n",
      "  warnings.warn(msg, FutureWarning)\n",
      "/Users/adeslatt/miniconda3/envs/nsforest/lib/python3.11/site-packages/anndata/utils.py:429: FutureWarning: Importing read_excel from `anndata` is deprecated. Import anndata.io.read_excel instead.\n",
      "  warnings.warn(msg, FutureWarning)\n",
      "/Users/adeslatt/miniconda3/envs/nsforest/lib/python3.11/site-packages/anndata/utils.py:429: FutureWarning: Importing read_mtx from `anndata` is deprecated. Import anndata.io.read_mtx instead.\n",
      "  warnings.warn(msg, FutureWarning)\n",
      "/Users/adeslatt/miniconda3/envs/nsforest/lib/python3.11/site-packages/anndata/utils.py:429: FutureWarning: Importing read_loom from `anndata` is deprecated. Import anndata.io.read_loom instead.\n",
      "  warnings.warn(msg, FutureWarning)\n",
      "/Users/adeslatt/miniconda3/envs/nsforest/lib/python3.11/site-packages/anndata/utils.py:429: FutureWarning: Importing read_hdf from `anndata` is deprecated. Import anndata.io.read_hdf instead.\n",
      "  warnings.warn(msg, FutureWarning)\n",
      "/Users/adeslatt/miniconda3/envs/nsforest/lib/python3.11/site-packages/anndata/utils.py:429: FutureWarning: Importing read_csv from `anndata` is deprecated. Import anndata.io.read_csv instead.\n",
      "  warnings.warn(msg, FutureWarning)\n",
      "/Users/adeslatt/miniconda3/envs/nsforest/lib/python3.11/site-packages/anndata/utils.py:429: FutureWarning: Importing read_excel from `anndata` is deprecated. Import anndata.io.read_excel instead.\n",
      "  warnings.warn(msg, FutureWarning)\n",
      "/Users/adeslatt/miniconda3/envs/nsforest/lib/python3.11/site-packages/anndata/utils.py:429: FutureWarning: Importing read_hdf from `anndata` is deprecated. Import anndata.io.read_hdf instead.\n",
      "  warnings.warn(msg, FutureWarning)\n",
      "/Users/adeslatt/miniconda3/envs/nsforest/lib/python3.11/site-packages/anndata/utils.py:429: FutureWarning: Importing read_loom from `anndata` is deprecated. Import anndata.io.read_loom instead.\n",
      "  warnings.warn(msg, FutureWarning)\n",
      "/Users/adeslatt/miniconda3/envs/nsforest/lib/python3.11/site-packages/anndata/utils.py:429: FutureWarning: Importing read_mtx from `anndata` is deprecated. Import anndata.io.read_mtx instead.\n",
      "  warnings.warn(msg, FutureWarning)\n",
      "/Users/adeslatt/miniconda3/envs/nsforest/lib/python3.11/site-packages/anndata/utils.py:429: FutureWarning: Importing read_text from `anndata` is deprecated. Import anndata.io.read_text instead.\n",
      "  warnings.warn(msg, FutureWarning)\n",
      "/Users/adeslatt/miniconda3/envs/nsforest/lib/python3.11/site-packages/anndata/utils.py:429: FutureWarning: Importing read_umi_tools from `anndata` is deprecated. Import anndata.io.read_umi_tools instead.\n",
      "  warnings.warn(msg, FutureWarning)\n"
     ]
    }
   ],
   "source": [
    "import sys\n",
    "import os\n",
    "sys.path.insert(0, os.path.abspath(\"../\"))\n",
    "sys.path.insert(0, os.path.abspath(\"../nsforest/nsforesting\"))\n",
    "import numpy as np\n",
    "import pandas as pd\n",
    "import scanpy as sc\n",
    "import matplotlib.pyplot as plt\n",
    "import nsforest as ns\n",
    "from nsforest import utils\n",
    "from nsforest import preprocessing as pp\n",
    "from nsforest import nsforesting\n",
    "from nsforest import evaluating as ev\n",
    "from nsforest import plotting as pl"
   ]
  },
  {
   "cell_type": "markdown",
   "id": "aaa86774",
   "metadata": {},
   "source": [
    "### Data Exploration"
   ]
  },
  {
   "cell_type": "markdown",
   "id": "9ff95657",
   "metadata": {},
   "source": [
    "#### Loading h5ad AnnData file"
   ]
  },
  {
   "cell_type": "code",
   "execution_count": 2,
   "id": "ade71ff3",
   "metadata": {},
   "outputs": [
    {
     "data": {
      "text/plain": [
       "AnnData object with n_obs × n_vars = 584944 × 27957\n",
       "    obs: 'suspension_type', 'donor_id', 'is_primary_data', 'assay_ontology_term_id', 'cell_type_ontology_term_id', 'development_stage_ontology_term_id', 'disease_ontology_term_id', 'self_reported_ethnicity_ontology_term_id', 'tissue_ontology_term_id', 'organism_ontology_term_id', 'sex_ontology_term_id', 'BMI', 'age_or_mean_of_age_range', 'age_range', 'anatomical_region_ccf_score', 'ann_coarse_for_GWAS_and_modeling', 'ann_finest_level', 'ann_level_1', 'ann_level_2', 'ann_level_3', 'ann_level_4', 'ann_level_5', 'cause_of_death', 'dataset', 'entropy_dataset_leiden_3', 'entropy_original_ann_level_1_leiden_3', 'entropy_original_ann_level_2_clean_leiden_3', 'entropy_original_ann_level_3_clean_leiden_3', 'entropy_subject_ID_leiden_3', 'fresh_or_frozen', 'leiden_1', 'leiden_2', 'leiden_3', 'leiden_4', 'leiden_5', 'log10_total_counts', 'lung_condition', 'mixed_ancestry', 'n_genes_detected', 'original_ann_highest_res', 'original_ann_level_1', 'original_ann_level_2', 'original_ann_level_3', 'original_ann_level_4', 'original_ann_level_5', 'original_ann_nonharmonized', 'reannotation_type', 'reference_genome', 'sample', 'scanvi_label', 'sequencing_platform', 'size_factors', 'smoking_status', 'study', 'subject_type', 'tissue_dissociation_protocol', 'tissue_level_2', 'tissue_level_3', 'tissue_sampling_method', 'tissue_type', 'cell_type', 'assay', 'disease', 'organism', 'sex', 'tissue', 'self_reported_ethnicity', 'development_stage', 'observation_joinid'\n",
       "    var: 'feature_is_filtered', 'feature_name', 'feature_reference', 'feature_biotype', 'feature_length', 'feature_type'\n",
       "    uns: 'batch_condition', 'citation', 'default_embedding', 'schema_reference', 'schema_version', 'title'\n",
       "    obsm: 'X_scanvi_emb', 'X_umap'\n",
       "    obsp: 'connectivities', 'distances'"
      ]
     },
     "execution_count": 2,
     "metadata": {},
     "output_type": "execute_result"
    }
   ],
   "source": [
    "data_folder = \"../../sikkema/\"\n",
    "file = data_folder + \"b351804c-293e-4aeb-9c4c-043db67f4540.h5ad\"\n",
    "adata = sc.read_h5ad(file)\n",
    "adata"
   ]
  },
  {
   "cell_type": "markdown",
   "id": "5f85c7df",
   "metadata": {},
   "source": [
    "#### Defining `cluster_header` as cell type annotation. \n",
    "\n",
    "**Note:** Some datasets have multiple annotations per sample (ex. \"broad_cell_type\" and \"granular_cell_type\"). NS-Forest can be run on multiple `cluster_header`'s. Combining the parent and child markers may improve classification results. "
   ]
  },
  {
   "cell_type": "code",
   "execution_count": 3,
   "id": "c295fac2",
   "metadata": {},
   "outputs": [],
   "source": [
    "cluster_header = \"cell_type_ontology_term_id\""
   ]
  },
  {
   "cell_type": "markdown",
   "id": "f5238ab1",
   "metadata": {},
   "source": [
    "#### Defining `output_folder` for saving results.  And create the folder if it does not exist."
   ]
  },
  {
   "cell_type": "code",
   "execution_count": 12,
   "id": "a97d8412",
   "metadata": {},
   "outputs": [],
   "source": [
    "output_folder = \"../../sikkema_output/\"\n",
    "os.makedirs(output_folder, exist_ok=True)  # Create directory if it doesn't exist"
   ]
  },
  {
   "cell_type": "markdown",
   "id": "dbddd90d",
   "metadata": {},
   "source": [
    "#### Looking at sample labels"
   ]
  },
  {
   "cell_type": "code",
   "execution_count": 13,
   "id": "eaadf04b",
   "metadata": {},
   "outputs": [
    {
     "data": {
      "text/plain": [
       "Index(['GCGACCATCCCTAACC_SC22', 'P2_1_GCGCAACCAGTTAACC',\n",
       "       'GCTCTGTAGTGCTGCC_SC27', 'P2_8_TTAGGACGTTCAGGCC',\n",
       "       'CTTGATTGTCAGTTTG_T164', 'P3_3_CCACTACTCATTGCGA',\n",
       "       'P2_1_CAGCAGCGTGTTGAGG', 'P1_4_TTGCGTCAGCTTCGCG',\n",
       "       'GTCACGGAGACGCAAC_F02617', 'CAGCCACAGTCACTA_GRO-03_biopsy',\n",
       "       ...\n",
       "       'CGGACACAGCCATCGC-1-HCATisStab7659970', 'P2_3_GCGCCAATCGGTCTAA',\n",
       "       'CAGAATCCATGGTAGG-1-4', 'TTCTACACATACTACG_T85',\n",
       "       'ATGAGGGTCCCTCTCC_SC143', 'ACCTTTACATTAACCG_T120',\n",
       "       'CATTATCTCCATGAAC_F01639', 'AGGCCGTGTGTGACCC-SC56',\n",
       "       'CGATGGCAGCAGGCTA-1-2', 'AATCGGTGTCGGCACT-1-4'],\n",
       "      dtype='object', length=584944)"
      ]
     },
     "execution_count": 13,
     "metadata": {},
     "output_type": "execute_result"
    }
   ],
   "source": [
    "adata.obs_names"
   ]
  },
  {
   "cell_type": "markdown",
   "id": "9eab2a40",
   "metadata": {},
   "source": [
    "#### Looking at genes\n",
    "\n",
    "**Note:** `adata.var_names` must be unique. If there is a problem, usually it can be solved by assigning `adata.var.index = adata.var[\"ensembl_id\"]`. "
   ]
  },
  {
   "cell_type": "code",
   "execution_count": 14,
   "id": "ad76c4a0",
   "metadata": {},
   "outputs": [
    {
     "data": {
      "text/plain": [
       "Index(['ENSG00000000003', 'ENSG00000000419', 'ENSG00000000938',\n",
       "       'ENSG00000000971', 'ENSG00000001036', 'ENSG00000001084',\n",
       "       'ENSG00000001561', 'ENSG00000001626', 'ENSG00000002330',\n",
       "       'ENSG00000002549',\n",
       "       ...\n",
       "       'ENSG00000277443', 'ENSG00000277632', 'ENSG00000277639',\n",
       "       'ENSG00000277734', 'ENSG00000277791', 'ENSG00000277972',\n",
       "       'ENSG00000278311', 'ENSG00000279483', 'ENSG00000281649',\n",
       "       'ENSG00000283103'],\n",
       "      dtype='object', length=4898)"
      ]
     },
     "execution_count": 14,
     "metadata": {},
     "output_type": "execute_result"
    }
   ],
   "source": [
    "adata.var_names"
   ]
  },
  {
   "cell_type": "markdown",
   "id": "94bf3068",
   "metadata": {},
   "source": [
    "#### Checking cell annotation sizes \n",
    "\n",
    "**Note:** Some datasets are too large and need to be downsampled to be run through the pipeline. When downsampling, be sure to have all the granular cluster annotations represented. "
   ]
  },
  {
   "cell_type": "code",
   "execution_count": 15,
   "id": "59320aee",
   "metadata": {},
   "outputs": [
    {
     "data": {
      "text/plain": [
       "cell_type_ontology_term_id\n",
       "CL:0002633    80113\n",
       "CL:0000583    78816\n",
       "CL:0002063    62405\n",
       "CL:0000158    36023\n",
       "CL:0002480    35833\n",
       "CL:0002145    35225\n",
       "CL:0000625    29074\n",
       "CL:0000861    28223\n",
       "CL:0002144    23205\n",
       "CL:0000624    21285\n",
       "CL:0000860    17695\n",
       "CL:0000623    16978\n",
       "CL:0002543    12975\n",
       "CL:4028006    10321\n",
       "CL:0002399     9133\n",
       "CL:0000875     8834\n",
       "CL:0002062     7937\n",
       "CL:1001568     7391\n",
       "CL:0000097     6623\n",
       "CL:0005012     5873\n",
       "CL:4028004     5182\n",
       "CL:1001603     4805\n",
       "CL:4030023     4600\n",
       "CL:0002138     4595\n",
       "CL:0000236     4511\n",
       "CL:0002632     4393\n",
       "CL:0009089     3032\n",
       "CL:0019019     2996\n",
       "CL:0000786     1773\n",
       "CL:1000312     1670\n",
       "CL:2000093     1573\n",
       "CL:0000313     1472\n",
       "CL:0010003     1440\n",
       "CL:0019001     1417\n",
       "CL:0000622     1274\n",
       "CL:0019003      968\n",
       "CL:0000186      716\n",
       "CL:0005006      561\n",
       "CL:0000192      556\n",
       "CL:0000784      552\n",
       "CL:0000319      537\n",
       "CL:0000084      500\n",
       "CL:0000499      335\n",
       "CL:0000990      322\n",
       "CL:0000451      312\n",
       "CL:0000057      276\n",
       "CL:0000077      230\n",
       "CL:0002075      165\n",
       "CL:1000223      159\n",
       "CL:0000037       60\n",
       "Name: count, dtype: int64"
      ]
     },
     "execution_count": 15,
     "metadata": {},
     "output_type": "execute_result"
    }
   ],
   "source": [
    "adata.obs[cluster_header].value_counts()"
   ]
  },
  {
   "cell_type": "markdown",
   "id": "e500d38f",
   "metadata": {},
   "source": [
    "### Preprocessing"
   ]
  },
  {
   "cell_type": "markdown",
   "id": "b48e30ee",
   "metadata": {},
   "source": [
    "#### Generating scanpy dendrogram\n",
    "\n",
    "**Note:** Only run if there is no pre-defined dendrogram order. This step can still be run with no effects, but the runtime may increase. \n",
    "\n",
    "Dendrogram order is stored in `adata.uns[\"dendrogram_cluster\"][\"categories_ordered\"]`. \n",
    "\n",
    "This dataset has a pre-defined dendrogram order, so running this step is not necessary. "
   ]
  },
  {
   "cell_type": "code",
   "execution_count": 16,
   "id": "622dd0e1",
   "metadata": {},
   "outputs": [
    {
     "name": "stderr",
     "output_type": "stream",
     "text": [
      "/Users/adeslatt/miniconda3/envs/nsforest/lib/python3.11/site-packages/scanpy/tools/_dendrogram.py:135: FutureWarning: The default of observed=False is deprecated and will be changed to True in a future version of pandas. Pass observed=False to retain current behavior or observed=True to adopt the future default and silence this warning.\n",
      "  mean_df = rep_df.groupby(level=0).mean()\n"
     ]
    }
   ],
   "source": [
    "ns.pp.dendrogram(adata, cluster_header, save = True, output_folder = output_folder, outputfilename_suffix = cluster_header)"
   ]
  },
  {
   "cell_type": "markdown",
   "id": "b0564a37",
   "metadata": {},
   "source": [
    "#### Calculating cluster medians per gene\n",
    "\n",
    "Run `ns.pp.prep_medians` before running NS-Forest.\n",
    "\n",
    "**Note:** Do **not** run if evaluating marker lists. Do **not** run when generating scanpy plots (e.g. dot plot, violin plot, matrix plot). "
   ]
  },
  {
   "cell_type": "code",
   "execution_count": 17,
   "id": "5dffeeca",
   "metadata": {},
   "outputs": [
    {
     "name": "stdout",
     "output_type": "stream",
     "text": [
      "Calculating medians...\n"
     ]
    },
    {
     "name": "stderr",
     "output_type": "stream",
     "text": [
      "Calculating medians (means) per cluster: 100%|████████████████████████████████████████████████| 50/50 [00:39<00:00,  1.27it/s]\n"
     ]
    },
    {
     "name": "stdout",
     "output_type": "stream",
     "text": [
      "Saving calculated medians as adata.varm.medians_cell_type_ontology_term_id\n",
      "--- 39.43401098251343 seconds ---\n",
      "median: 0.0\n",
      "mean: 0.18186754\n",
      "std: 0.5669553\n",
      "Only positive genes selected. 4898 positive genes out of 4898 total genes\n"
     ]
    },
    {
     "data": {
      "text/plain": [
       "AnnData object with n_obs × n_vars = 584944 × 4898\n",
       "    obs: 'suspension_type', 'donor_id', 'is_primary_data', 'assay_ontology_term_id', 'cell_type_ontology_term_id', 'development_stage_ontology_term_id', 'disease_ontology_term_id', 'self_reported_ethnicity_ontology_term_id', 'tissue_ontology_term_id', 'organism_ontology_term_id', 'sex_ontology_term_id', 'BMI', 'age_or_mean_of_age_range', 'age_range', 'anatomical_region_ccf_score', 'ann_coarse_for_GWAS_and_modeling', 'ann_finest_level', 'ann_level_1', 'ann_level_2', 'ann_level_3', 'ann_level_4', 'ann_level_5', 'cause_of_death', 'dataset', 'entropy_dataset_leiden_3', 'entropy_original_ann_level_1_leiden_3', 'entropy_original_ann_level_2_clean_leiden_3', 'entropy_original_ann_level_3_clean_leiden_3', 'entropy_subject_ID_leiden_3', 'fresh_or_frozen', 'leiden_1', 'leiden_2', 'leiden_3', 'leiden_4', 'leiden_5', 'log10_total_counts', 'lung_condition', 'mixed_ancestry', 'n_genes_detected', 'original_ann_highest_res', 'original_ann_level_1', 'original_ann_level_2', 'original_ann_level_3', 'original_ann_level_4', 'original_ann_level_5', 'original_ann_nonharmonized', 'reannotation_type', 'reference_genome', 'sample', 'scanvi_label', 'sequencing_platform', 'size_factors', 'smoking_status', 'study', 'subject_type', 'tissue_dissociation_protocol', 'tissue_level_2', 'tissue_level_3', 'tissue_sampling_method', 'tissue_type', 'cell_type', 'assay', 'disease', 'organism', 'sex', 'tissue', 'self_reported_ethnicity', 'development_stage', 'observation_joinid'\n",
       "    var: 'feature_is_filtered', 'feature_name', 'feature_reference', 'feature_biotype', 'feature_length', 'feature_type'\n",
       "    uns: 'batch_condition', 'citation', 'default_embedding', 'schema_reference', 'schema_version', 'title', 'dendrogram_cell_type_ontology_term_id'\n",
       "    obsm: 'X_scanvi_emb', 'X_umap', 'X_pca'\n",
       "    varm: 'medians_cell_type_ontology_term_id', 'binary_scores_cell_type_ontology_term_id'\n",
       "    obsp: 'connectivities', 'distances'"
      ]
     },
     "execution_count": 17,
     "metadata": {},
     "output_type": "execute_result"
    }
   ],
   "source": [
    "adata = ns.pp.prep_medians(adata, cluster_header)\n",
    "adata"
   ]
  },
  {
   "cell_type": "markdown",
   "id": "a15a0aa7",
   "metadata": {},
   "source": [
    "#### Calculating binary scores per gene per cluster\n",
    "\n",
    "Run `ns.pp.prep_binary_scores` before running NS-Forest. Do not need to run if evaluating marker lists. Do not need to run when generating scanpy plots. "
   ]
  },
  {
   "cell_type": "code",
   "execution_count": 18,
   "id": "9ab184ce",
   "metadata": {},
   "outputs": [
    {
     "name": "stdout",
     "output_type": "stream",
     "text": [
      "Calculating binary scores...\n"
     ]
    },
    {
     "name": "stderr",
     "output_type": "stream",
     "text": [
      "Calculating binary scores per cluster: 100%|██████████████████████████████████████████████████| 50/50 [00:13<00:00,  3.80it/s]"
     ]
    },
    {
     "name": "stdout",
     "output_type": "stream",
     "text": [
      "Saving calculated binary scores as adata.varm.binary_scores_cell_type_ontology_term_id\n",
      "--- 13.184026718139648 seconds ---\n",
      "median: 0.0\n",
      "mean: 0.09153821921453578\n",
      "std: 0.2463153341216742\n"
     ]
    },
    {
     "name": "stderr",
     "output_type": "stream",
     "text": [
      "\n"
     ]
    },
    {
     "data": {
      "text/plain": [
       "AnnData object with n_obs × n_vars = 584944 × 4898\n",
       "    obs: 'suspension_type', 'donor_id', 'is_primary_data', 'assay_ontology_term_id', 'cell_type_ontology_term_id', 'development_stage_ontology_term_id', 'disease_ontology_term_id', 'self_reported_ethnicity_ontology_term_id', 'tissue_ontology_term_id', 'organism_ontology_term_id', 'sex_ontology_term_id', 'BMI', 'age_or_mean_of_age_range', 'age_range', 'anatomical_region_ccf_score', 'ann_coarse_for_GWAS_and_modeling', 'ann_finest_level', 'ann_level_1', 'ann_level_2', 'ann_level_3', 'ann_level_4', 'ann_level_5', 'cause_of_death', 'dataset', 'entropy_dataset_leiden_3', 'entropy_original_ann_level_1_leiden_3', 'entropy_original_ann_level_2_clean_leiden_3', 'entropy_original_ann_level_3_clean_leiden_3', 'entropy_subject_ID_leiden_3', 'fresh_or_frozen', 'leiden_1', 'leiden_2', 'leiden_3', 'leiden_4', 'leiden_5', 'log10_total_counts', 'lung_condition', 'mixed_ancestry', 'n_genes_detected', 'original_ann_highest_res', 'original_ann_level_1', 'original_ann_level_2', 'original_ann_level_3', 'original_ann_level_4', 'original_ann_level_5', 'original_ann_nonharmonized', 'reannotation_type', 'reference_genome', 'sample', 'scanvi_label', 'sequencing_platform', 'size_factors', 'smoking_status', 'study', 'subject_type', 'tissue_dissociation_protocol', 'tissue_level_2', 'tissue_level_3', 'tissue_sampling_method', 'tissue_type', 'cell_type', 'assay', 'disease', 'organism', 'sex', 'tissue', 'self_reported_ethnicity', 'development_stage', 'observation_joinid'\n",
       "    var: 'feature_is_filtered', 'feature_name', 'feature_reference', 'feature_biotype', 'feature_length', 'feature_type'\n",
       "    uns: 'batch_condition', 'citation', 'default_embedding', 'schema_reference', 'schema_version', 'title', 'dendrogram_cell_type_ontology_term_id'\n",
       "    obsm: 'X_scanvi_emb', 'X_umap', 'X_pca'\n",
       "    varm: 'medians_cell_type_ontology_term_id', 'binary_scores_cell_type_ontology_term_id'\n",
       "    obsp: 'connectivities', 'distances'"
      ]
     },
     "execution_count": 18,
     "metadata": {},
     "output_type": "execute_result"
    }
   ],
   "source": [
    "adata = ns.pp.prep_binary_scores(adata, cluster_header)\n",
    "adata"
   ]
  },
  {
   "cell_type": "markdown",
   "id": "6a6e11b4",
   "metadata": {},
   "source": [
    "#### Plotting median and binary score distributions"
   ]
  },
  {
   "cell_type": "code",
   "execution_count": 19,
   "id": "60153da0",
   "metadata": {},
   "outputs": [
    {
     "name": "stdout",
     "output_type": "stream",
     "text": [
      "Saving median distributions as...\n",
      "../../sikkema_output/cell_type_ontology_term_id_medians.png\n"
     ]
    },
    {
     "data": {
      "text/plain": [
       "<Figure size 640x480 with 0 Axes>"
      ]
     },
     "metadata": {},
     "output_type": "display_data"
    },
    {
     "data": {
      "image/png": "[encoded data removed]",
      "text/plain": [
       "<Figure size 600x400 with 1 Axes>"
      ]
     },
     "metadata": {},
     "output_type": "display_data"
    }
   ],
   "source": [
    "plt.clf()\n",
    "filename = output_folder + cluster_header + '_medians.png'\n",
    "print(f\"Saving median distributions as...\\n{filename}\")\n",
    "a = plt.figure(figsize = (6, 4))\n",
    "a = plt.hist(adata.varm[\"medians_\" + cluster_header].unstack(), bins = 100)\n",
    "a = plt.title(f'{file.split(\"/\")[-1].replace(\".h5ad\", \"\")}: {\"medians_\" + cluster_header} histogram')\n",
    "a = plt.xlabel(\"medians_\" + cluster_header)\n",
    "a = plt.yscale(\"log\")\n",
    "a = plt.savefig(filename, bbox_inches='tight')\n",
    "plt.show()"
   ]
  },
  {
   "cell_type": "code",
   "execution_count": 20,
   "id": "c24b78ea",
   "metadata": {},
   "outputs": [
    {
     "name": "stdout",
     "output_type": "stream",
     "text": [
      "Saving binary_score distributions as...\n",
      "../../sikkema_output/cell_type_ontology_term_id_binary_scores.png\n"
     ]
    },
    {
     "data": {
      "text/plain": [
       "<Figure size 640x480 with 0 Axes>"
      ]
     },
     "metadata": {},
     "output_type": "display_data"
    },
    {
     "data": {
      "image/png": "[encoded data removed]",
      "text/plain": [
       "<Figure size 600x400 with 1 Axes>"
      ]
     },
     "metadata": {},
     "output_type": "display_data"
    }
   ],
   "source": [
    "plt.clf()\n",
    "filename = output_folder + cluster_header + '_binary_scores.png'\n",
    "print(f\"Saving binary_score distributions as...\\n{filename}\")\n",
    "a = plt.figure(figsize = (6, 4))\n",
    "a = plt.hist(adata.varm[\"binary_scores_\" + cluster_header].unstack(), bins = 100)\n",
    "a = plt.title(f'{file.split(\"/\")[-1].replace(\".h5ad\", \"\")}: {\"binary_scores_\" + cluster_header} histogram')\n",
    "a = plt.xlabel(\"binary_scores_\" + cluster_header)\n",
    "a = plt.yscale(\"log\")\n",
    "a = plt.savefig(filename, bbox_inches='tight')\n",
    "plt.show()"
   ]
  },
  {
   "cell_type": "markdown",
   "id": "0de89f7d",
   "metadata": {},
   "source": [
    "#### Saving preprocessed AnnData as new h5ad"
   ]
  },
  {
   "cell_type": "code",
   "execution_count": 21,
   "id": "5e19636f",
   "metadata": {},
   "outputs": [
    {
     "name": "stdout",
     "output_type": "stream",
     "text": [
      "Saving new anndata object as...\n",
      "../../sikkema/b351804c-293e-4aeb-9c4c-043db67f4540_preprocessed.h5ad\n"
     ]
    }
   ],
   "source": [
    "filename = file.replace(\".h5ad\", \"_preprocessed.h5ad\")\n",
    "print(f\"Saving new anndata object as...\\n{filename}\")\n",
    "adata.write_h5ad(filename)"
   ]
  },
  {
   "cell_type": "markdown",
   "id": "40b0304c",
   "metadata": {},
   "source": [
    "### Running NS-Forest\n",
    "\n",
    "**Note:** Do not run NS-Forest if only evaluating input marker lists. "
   ]
  },
  {
   "cell_type": "code",
   "execution_count": null,
   "id": "ab30c7d8",
   "metadata": {
    "scrolled": true
   },
   "outputs": [
    {
     "name": "stdout",
     "output_type": "stream",
     "text": [
      "Preparing adata...\n",
      "--- 3.084024667739868 seconds ---\n",
      "Pre-selecting genes based on binary scores...\n",
      "\tBinaryFirst_high Threshold (mean + 2 * std): 0.5841688874578842\n",
      "\tAverage number of genes after gene_selection in each cluster: 421.74\n",
      "Saving number of genes selected per cluster as...\n",
      "../../sikkema_output/cell_type_ontology_term_id_gene_selection.csv\n",
      "Number of clusters to evaluate: 50\n",
      "1 out of 50:\n",
      "\tCL:0000037\n",
      "\tPre-selected 665 genes to feed into Random Forest.\n"
     ]
    }
   ],
   "source": [
    "outputfilename_prefix = cluster_header\n",
    "results = nsforesting.NSForest(adata, cluster_header, save_supplementary = True, output_folder = output_folder, outputfilename_prefix = outputfilename_prefix)"
   ]
  },
  {
   "cell_type": "code",
   "execution_count": null,
   "id": "7fb3867d",
   "metadata": {
    "scrolled": true
   },
   "outputs": [],
   "source": [
    "results"
   ]
  },
  {
   "cell_type": "markdown",
   "id": "9c3fd0f2",
   "metadata": {},
   "source": [
    "#### Plotting classification metrics from NS-Forest results"
   ]
  },
  {
   "cell_type": "code",
   "execution_count": null,
   "id": "08e99bb1",
   "metadata": {},
   "outputs": [],
   "source": [
    "ns.pl.boxplot(results, \"f_score\", save = True, output_folder = output_folder, outputfilename_prefix = outputfilename_prefix)"
   ]
  },
  {
   "cell_type": "code",
   "execution_count": null,
   "id": "d8c4e3af",
   "metadata": {},
   "outputs": [],
   "source": [
    "ns.pl.boxplot(results, \"PPV\", save = True, output_folder = output_folder, outputfilename_prefix = outputfilename_prefix)"
   ]
  },
  {
   "cell_type": "code",
   "execution_count": null,
   "id": "65e19f2a",
   "metadata": {},
   "outputs": [],
   "source": [
    "ns.pl.boxplot(results, \"recall\", save = True, output_folder = output_folder, outputfilename_prefix = outputfilename_prefix)"
   ]
  },
  {
   "cell_type": "code",
   "execution_count": null,
   "id": "5f62e953",
   "metadata": {},
   "outputs": [],
   "source": [
    "ns.pl.boxplot(results, \"onTarget\", save = True, output_folder = output_folder, outputfilename_prefix = outputfilename_prefix)"
   ]
  },
  {
   "cell_type": "code",
   "execution_count": null,
   "id": "c6b4e2c6",
   "metadata": {},
   "outputs": [],
   "source": [
    "ns.pl.scatter_w_clusterSize(results, \"f_score\", save = True, output_folder = output_folder, outputfilename_prefix = outputfilename_prefix)"
   ]
  },
  {
   "cell_type": "code",
   "execution_count": null,
   "id": "2aa862bb",
   "metadata": {},
   "outputs": [],
   "source": [
    "ns.pl.scatter_w_clusterSize(results, \"PPV\", save = True, output_folder = output_folder, outputfilename_prefix = outputfilename_prefix)"
   ]
  },
  {
   "cell_type": "code",
   "execution_count": null,
   "id": "fd21adbf",
   "metadata": {},
   "outputs": [],
   "source": [
    "ns.pl.scatter_w_clusterSize(results, \"recall\", save = True, output_folder = output_folder, outputfilename_prefix = outputfilename_prefix)"
   ]
  },
  {
   "cell_type": "code",
   "execution_count": null,
   "id": "cf03b994",
   "metadata": {},
   "outputs": [],
   "source": [
    "ns.pl.scatter_w_clusterSize(results, \"onTarget\", save = True, output_folder = output_folder, outputfilename_prefix = outputfilename_prefix)"
   ]
  },
  {
   "cell_type": "markdown",
   "id": "49ce9fa9",
   "metadata": {},
   "source": [
    "### Plotting scanpy dot plot, violin plot, matrix plot for NS-Forest markers\n",
    "\n",
    "**Note:** Assign pre-defined dendrogram order here **or** use `adata.uns[\"dendrogram_\" + cluster_header][\"categories_ordered\"]`. "
   ]
  },
  {
   "cell_type": "code",
   "execution_count": null,
   "id": "3d2b4a01",
   "metadata": {},
   "outputs": [],
   "source": [
    "to_plot = results.copy()"
   ]
  },
  {
   "cell_type": "code",
   "execution_count": null,
   "id": "9dd2992f",
   "metadata": {},
   "outputs": [],
   "source": [
    "dendrogram = [] # custom dendrogram order\n",
    "dendrogram = list(adata.uns[\"dendrogram_\" + cluster_header][\"categories_ordered\"])\n",
    "to_plot[\"clusterName\"] = to_plot[\"clusterName\"].astype(\"category\")\n",
    "to_plot[\"clusterName\"] = to_plot[\"clusterName\"].cat.set_categories(dendrogram)\n",
    "to_plot = to_plot.sort_values(\"clusterName\")\n",
    "to_plot = to_plot.rename(columns = {\"NSForest_markers\": \"markers\"})\n",
    "to_plot.head()"
   ]
  },
  {
   "cell_type": "code",
   "execution_count": null,
   "id": "d2b2876f",
   "metadata": {},
   "outputs": [],
   "source": [
    "markers_dict = dict(zip(to_plot[\"clusterName\"], to_plot[\"markers\"]))\n",
    "markers_dict"
   ]
  },
  {
   "cell_type": "code",
   "execution_count": null,
   "id": "460993c9",
   "metadata": {},
   "outputs": [],
   "source": [
    "ns.pl.dotplot(adata, markers_dict, cluster_header, dendrogram = dendrogram, save = True, output_folder = output_folder, outputfilename_suffix = outputfilename_prefix)"
   ]
  },
  {
   "cell_type": "code",
   "execution_count": null,
   "id": "d5f4343f",
   "metadata": {},
   "outputs": [],
   "source": [
    "ns.pl.stackedviolin(adata, markers_dict, cluster_header, dendrogram = dendrogram, save = True, output_folder = output_folder, outputfilename_suffix = outputfilename_prefix)"
   ]
  },
  {
   "cell_type": "code",
   "execution_count": null,
   "id": "2620eac2",
   "metadata": {},
   "outputs": [],
   "source": [
    "ns.pl.matrixplot(adata, markers_dict, cluster_header, dendrogram = dendrogram, save = True, output_folder = output_folder, outputfilename_suffix = outputfilename_prefix)"
   ]
  },
  {
   "cell_type": "markdown",
   "id": "3db416b9",
   "metadata": {},
   "source": [
    "### Evaluating input marker list"
   ]
  },
  {
   "cell_type": "markdown",
   "id": "487189de",
   "metadata": {},
   "source": [
    "#### Getting marker list in dictionary format: {cluster: marker_list}"
   ]
  },
  {
   "cell_type": "code",
   "execution_count": null,
   "id": "924fe490",
   "metadata": {
    "scrolled": true
   },
   "outputs": [],
   "source": [
    "data_folder = \"../../demo_data/\"\n",
    "file = data_folder + \"marker_list.csv\"\n",
    "\n",
    "markers = pd.read_csv(file)\n",
    "markers_dict = utils.prepare_markers(markers, \"clusterName\", \"markers\")\n",
    "markers_dict"
   ]
  },
  {
   "cell_type": "code",
   "execution_count": null,
   "id": "f661f918",
   "metadata": {
    "scrolled": true
   },
   "outputs": [],
   "source": [
    "outputfilename_prefix = \"marker_eval\"\n",
    "evaluation_results = ev.DecisionTree(adata, cluster_header, markers_dict, combinations = False, use_mean = False, \n",
    "                                     save_supplementary = True, output_folder = output_folder, outputfilename_prefix = outputfilename_prefix)"
   ]
  },
  {
   "cell_type": "code",
   "execution_count": null,
   "id": "30c01b33",
   "metadata": {
    "scrolled": true
   },
   "outputs": [],
   "source": [
    "evaluation_results"
   ]
  },
  {
   "cell_type": "markdown",
   "id": "81f7cbe3",
   "metadata": {},
   "source": [
    "#### Plotting classification metrics from marker evaluation"
   ]
  },
  {
   "cell_type": "code",
   "execution_count": null,
   "id": "7644a588",
   "metadata": {},
   "outputs": [],
   "source": [
    "ns.pl.boxplot(evaluation_results, \"f_score\", save = True, output_folder = output_folder, outputfilename_prefix = outputfilename_prefix)"
   ]
  },
  {
   "cell_type": "code",
   "execution_count": null,
   "id": "8320f2f6",
   "metadata": {},
   "outputs": [],
   "source": [
    "ns.pl.boxplot(evaluation_results, \"PPV\", save = True, output_folder = output_folder, outputfilename_prefix = outputfilename_prefix)"
   ]
  },
  {
   "cell_type": "code",
   "execution_count": null,
   "id": "68b5f3b2",
   "metadata": {},
   "outputs": [],
   "source": [
    "ns.pl.boxplot(evaluation_results, \"recall\", save = True, output_folder = output_folder, outputfilename_prefix = outputfilename_prefix)"
   ]
  },
  {
   "cell_type": "code",
   "execution_count": null,
   "id": "15993c09",
   "metadata": {},
   "outputs": [],
   "source": [
    "ns.pl.boxplot(evaluation_results, \"onTarget\", save = True, output_folder = output_folder, outputfilename_prefix = outputfilename_prefix)"
   ]
  },
  {
   "cell_type": "code",
   "execution_count": null,
   "id": "d8d3d3b8",
   "metadata": {},
   "outputs": [],
   "source": [
    "ns.pl.scatter_w_clusterSize(evaluation_results, \"f_score\", save = True, output_folder = output_folder, outputfilename_prefix = outputfilename_prefix)"
   ]
  },
  {
   "cell_type": "code",
   "execution_count": null,
   "id": "1042bd90",
   "metadata": {},
   "outputs": [],
   "source": [
    "ns.pl.scatter_w_clusterSize(evaluation_results, \"PPV\", save = True, output_folder = output_folder, outputfilename_prefix = outputfilename_prefix)"
   ]
  },
  {
   "cell_type": "code",
   "execution_count": null,
   "id": "45d371ea",
   "metadata": {},
   "outputs": [],
   "source": [
    "ns.pl.scatter_w_clusterSize(evaluation_results, \"recall\", save = True, output_folder = output_folder, outputfilename_prefix = outputfilename_prefix)"
   ]
  },
  {
   "cell_type": "code",
   "execution_count": null,
   "id": "c08abe01",
   "metadata": {},
   "outputs": [],
   "source": [
    "ns.pl.scatter_w_clusterSize(evaluation_results, \"onTarget\", save = True, output_folder = output_folder, outputfilename_prefix = outputfilename_prefix)"
   ]
  },
  {
   "cell_type": "markdown",
   "id": "ae385c65",
   "metadata": {},
   "source": [
    "### Plotting scanpy dot plot, violin plot, matrix plot for input marker list\n",
    "\n",
    "**Note:** Assign pre-defined dendrogram order here **or** use `adata.uns[\"dendrogram_\" + cluster_header][\"categories_ordered\"]`. "
   ]
  },
  {
   "cell_type": "code",
   "execution_count": null,
   "id": "4709bdd2",
   "metadata": {},
   "outputs": [],
   "source": [
    "to_plot = evaluation_results.copy()"
   ]
  },
  {
   "cell_type": "code",
   "execution_count": null,
   "id": "fbb20c5d",
   "metadata": {},
   "outputs": [],
   "source": [
    "dendrogram = [] # custom dendrogram order\n",
    "dendrogram = list(adata.uns[\"dendrogram_\" + cluster_header][\"categories_ordered\"])\n",
    "to_plot[\"clusterName\"] = to_plot[\"clusterName\"].astype(\"category\")\n",
    "to_plot[\"clusterName\"] = to_plot[\"clusterName\"].cat.set_categories(dendrogram)\n",
    "to_plot = to_plot.sort_values(\"clusterName\").reset_index(drop = True)\n",
    "to_plot = to_plot.rename(columns = {\"NSForest_markers\": \"markers\"})\n",
    "to_plot.head()"
   ]
  },
  {
   "cell_type": "code",
   "execution_count": null,
   "id": "faa7b9f6",
   "metadata": {},
   "outputs": [],
   "source": [
    "markers_dict = dict(zip(to_plot[\"clusterName\"], to_plot[\"markers\"]))\n",
    "markers_dict"
   ]
  },
  {
   "cell_type": "code",
   "execution_count": null,
   "id": "a36fefe9",
   "metadata": {},
   "outputs": [],
   "source": [
    "ns.pl.dotplot(adata, markers_dict, cluster_header, dendrogram = dendrogram, save = True, output_folder = output_folder, outputfilename_suffix = outputfilename_prefix)"
   ]
  },
  {
   "cell_type": "code",
   "execution_count": null,
   "id": "a2654253",
   "metadata": {},
   "outputs": [],
   "source": [
    "ns.pl.stackedviolin(adata, markers_dict, cluster_header, dendrogram = dendrogram, save = True, output_folder = output_folder, outputfilename_suffix = outputfilename_prefix)"
   ]
  },
  {
   "cell_type": "code",
   "execution_count": null,
   "id": "07b009c3",
   "metadata": {},
   "outputs": [],
   "source": [
    "ns.pl.matrixplot(adata, markers_dict, cluster_header, dendrogram = dendrogram, save = True, output_folder = output_folder, outputfilename_suffix = outputfilename_prefix)"
   ]
  },
  {
   "cell_type": "code",
   "execution_count": null,
   "id": "606b8eb8-cac3-45d3-92e2-cbf8f5febda4",
   "metadata": {},
   "outputs": [],
   "source": []
  }
 ],
 "metadata": {
  "kernelspec": {
   "display_name": "Python 3 (ipykernel)",
   "language": "python",
   "name": "python3"
  },
  "language_info": {
   "codemirror_mode": {
    "name": "ipython",
    "version": 3
   },
   "file_extension": ".py",
   "mimetype": "text/x-python",
   "name": "python",
   "nbconvert_exporter": "python",
   "pygments_lexer": "ipython3",
   "version": "3.11.7"
  }
 },
 "nbformat": 4,
 "nbformat_minor": 5
}
